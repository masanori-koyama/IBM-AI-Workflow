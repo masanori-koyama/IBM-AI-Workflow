{
    "cells": [
        {
            "cell_type": "code",
            "execution_count": null,
            "metadata": {},
            "outputs": [],
            "source": "# The code was removed by Watson Studio for sharing."
        },
        {
            "cell_type": "code",
            "execution_count": null,
            "metadata": {},
            "outputs": [],
            "source": "# The code was removed by Watson Studio for sharing."
        },
        {
            "cell_type": "code",
            "execution_count": null,
            "metadata": {},
            "outputs": [],
            "source": "import time,os,re,csv,sys,uuid,joblib\nfrom datetime import date\nfrom collections import defaultdict\nimport numpy as np\nimport pandas as pd\nfrom sklearn import svm\nfrom sklearn.model_selection import train_test_split, GridSearchCV\nfrom sklearn.ensemble import RandomForestRegressor\nfrom sklearn.metrics import mean_squared_error\nfrom sklearn.preprocessing import StandardScaler, OneHotEncoder\nfrom sklearn.pipeline import Pipeline\n\nfrom logger import update_predict_log, update_train_log\nfrom cslib import fetch_ts, engineer_features\n\n## model specific variables (iterate the version and note with each change)\nMODEL_DIR = \"models\"\nMODEL_VERSION = 0.1\nMODEL_VERSION_NOTE = \"supervised learing model for time-series\"\n\ndef _model_train(df,tag,test=False):\n    \"\"\"\n    example funtion to train model\n    \n    The 'test' flag when set to 'True':\n        (1) subsets the data and serializes a test version\n        (2) specifies that the use of the 'test' log file \n    \"\"\"\n\n\n    ## start timer for runtime\n    time_start = time.time()\n    \n    X,y,dates = engineer_features(df)\n\n    if test:\n        n_samples = int(np.round(0.3 * X.shape[0]))\n        subset_indices = np.random.choice(np.arange(X.shape[0]),n_samples,\n                                          replace=False).astype(int)\n        mask = np.in1d(np.arange(y.size),subset_indices)\n        y=y[mask]\n        X=X[mask]\n        dates=dates[mask]\n        \n    ## Perform a train-test split\n    X_train, X_test, y_train, y_test = train_test_split(X, y, test_size=0.25,\n                                                        shuffle=True, random_state=42)\n    ## train a random forest model\n    param_grid_rf = {\n    'rf__criterion': ['mse','mae'],\n    'rf__n_estimators': [10,15,20,25]\n    }\n\n    pipe_rf = Pipeline(steps=[('scaler', StandardScaler()),\n                              ('rf', RandomForestRegressor())])\n    \n    grid = GridSearchCV(pipe_rf, param_grid=param_grid_rf, cv=5, iid=False, n_jobs=-1)\n    grid.fit(X_train, y_train)\n    y_pred = grid.predict(X_test)\n    eval_rmse =  round(np.sqrt(mean_squared_error(y_test,y_pred)))\n    \n    ## retrain using all data\n    grid.fit(X, y)\n    model_name = re.sub(\"\\.\",\"_\",str(MODEL_VERSION))\n    if test:\n        saved_model = os.path.join(MODEL_DIR,\n                                   \"test-{}-{}.joblib\".format(tag,model_name))\n        print(\"... saving test version of model: {}\".format(saved_model))\n    else:\n        saved_model = os.path.join(MODEL_DIR,\n                                   \"sl-{}-{}.joblib\".format(tag,model_name))\n        print(\"... saving model: {}\".format(saved_model))\n        \n    joblib.dump(grid,saved_model)\n\n    m, s = divmod(time.time()-time_start, 60)\n    h, m = divmod(m, 60)\n    runtime = \"%03d:%02d:%02d\"%(h, m, s)\n\n    ## update log\n    update_train_log(tag,(str(dates[0]),str(dates[-1])),{'rmse':eval_rmse},runtime,\n                     MODEL_VERSION, MODEL_VERSION_NOTE,test=True)\n  \n\ndef model_train(data_dir,test=False):\n    \"\"\"\n    funtion to train model given a df\n    \n    'mode' -  can be used to subset data essentially simulating a train\n    \"\"\"\n    \n    if not os.path.isdir(MODEL_DIR):\n        os.mkdir(MODEL_DIR)\n\n    if test:\n        print(\"... test flag on\")\n        print(\"...... subseting data\")\n        print(\"...... subseting countries\")\n        \n    ## fetch time-series formatted data\n    ts_data = fetch_ts(data_dir)\n\n    ## train a different model for each data sets\n    for country,df in ts_data.items():\n        \n        if test and country not in ['all','united_kingdom']:\n            continue\n        \n        _model_train(df,country,test=test)\n    \ndef model_load(prefix='sl',data_dir=None,training=True):\n    \"\"\"\n    example funtion to load model\n    \n    The prefix allows the loading of different models\n    \"\"\"\n\n    if not data_dir:\n        data_dir = os.path.join(\"..\",\"data\",\"cs-train\")\n    \n    models = [f for f in os.listdir(os.path.join(\".\",\"models\")) if re.search(\"sl\",f)]\n\n    if len(models) == 0:\n        raise Exception(\"Models with prefix '{}' cannot be found did you train?\".format(prefix))\n\n    all_models = {}\n    for model in models:\n        all_models[re.split(\"-\",model)[1]] = joblib.load(os.path.join(\".\",\"models\",model))\n\n    ## load data\n    ts_data = fetch_ts(data_dir)\n    all_data = {}\n    for country, df in ts_data.items():\n        X,y,dates = engineer_features(df,training=training)\n        dates = np.array([str(d) for d in dates])\n        all_data[country] = {\"X\":X,\"y\":y,\"dates\": dates}\n        \n    return(all_data, all_models)\n\ndef model_predict(country,year,month,day,all_models=None,test=False):\n    \"\"\"\n    example funtion to predict from model\n    \"\"\"\n\n    ## start timer for runtime\n    time_start = time.time()\n\n    ## load model if needed\n    if not all_models:\n        all_data,all_models = model_load(training=False)\n    \n    ## input checks\n    if country not in all_models.keys():\n        raise Exception(\"ERROR (model_predict) - model for country '{}' could not be found\".format(country))\n\n    for d in [year,month,day]:\n        if re.search(\"\\D\",d):\n            raise Exception(\"ERROR (model_predict) - invalid year, month or day\")\n    \n    ## load data\n    model = all_models[country]\n    data = all_data[country]\n\n    ## check date\n    target_date = \"{}-{}-{}\".format(year,str(month).zfill(2),str(day).zfill(2))\n    print(target_date)\n\n    if target_date not in data['dates']:\n        raise Exception(\"ERROR (model_predict) - date {} not in range {}-{}\".format(target_date,\n                                                                                    data['dates'][0],\n                                                                                    data['dates'][-1]))\n    date_indx = np.where(data['dates'] == target_date)[0][0]\n    query = data['X'].iloc[[date_indx]]\n    \n    ## sainty check\n    if data['dates'].shape[0] != data['X'].shape[0]:\n        raise Exception(\"ERROR (model_predict) - dimensions mismatch\")\n\n    ## make prediction and gather data for log entry\n    y_pred = model.predict(query)\n    y_proba = None\n    if 'predict_proba' in dir(model) and 'probability' in dir(model):\n        if model.probability == True:\n            y_proba = model.predict_proba(query)\n\n\n    m, s = divmod(time.time()-time_start, 60)\n    h, m = divmod(m, 60)\n    runtime = \"%03d:%02d:%02d\"%(h, m, s)\n\n    ## update predict log\n    update_predict_log(country,y_pred,y_proba,target_date,\n                       runtime, MODEL_VERSION, test=test)\n    \n    return({'y_pred':y_pred,'y_proba':y_proba})\n\nif __name__ == \"__main__\":\n\n    \"\"\"\n    basic test procedure for model.py\n    \"\"\"\n\n    ## train the model\n    print(\"TRAINING MODELS\")\n    data_dir = os.path.join(\"..\",\"data\",\"cs-train\")\n    model_train(data_dir,test=True)\n\n    ## load the model\n    print(\"LOADING MODELS\")\n    all_data, all_models = model_load()\n    print(\"... models loaded: \",\",\".join(all_models.keys()))\n\n    ## test predict\n    country='all'\n    year='2018'\n    month='01'\n    day='05'\n    result = model_predict(country,year,month,day)\n    print(result)"
        }
    ],
    "metadata": {
        "kernelspec": {
            "display_name": "Python 3.7",
            "language": "python",
            "name": "python3"
        },
        "language_info": {
            "codemirror_mode": {
                "name": "ipython",
                "version": 3
            },
            "file_extension": ".py",
            "mimetype": "text/x-python",
            "name": "python",
            "nbconvert_exporter": "python",
            "pygments_lexer": "ipython3",
            "version": "3.7.10"
        }
    },
    "nbformat": 4,
    "nbformat_minor": 1
}